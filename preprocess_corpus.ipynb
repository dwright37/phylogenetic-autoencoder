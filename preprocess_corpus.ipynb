{
 "cells": [
  {
   "cell_type": "markdown",
   "metadata": {},
   "source": [
    "# Corpus preprocessing\n",
    "\n",
    "Run this code before trying to train the model to get the datasets as IDs"
   ]
  },
  {
   "cell_type": "code",
   "execution_count": null,
   "metadata": {
    "collapsed": true
   },
   "outputs": [],
   "source": [
    "import numpy as np\n",
    "import pandas as pd\n",
    "from utils.text_processing import tokens_to_ids\n",
    "from utils.text_processing import load_dict_from_vocab_file\n",
    "\n",
    "testing_file = './data/testing.txt'\n",
    "training_file = './data/training.txt'\n",
    "vocab_file = './data/character_inventory_unk.txt'"
   ]
  },
  {
   "cell_type": "code",
   "execution_count": null,
   "metadata": {
    "collapsed": true
   },
   "outputs": [],
   "source": [
    "def getTextdb(input_file):\n",
    "    vocab = load_dict_from_vocab_file(vocab_file)\n",
    "    data = pd.read_csv(input_file, sep='\\t', header=None)\n",
    "    sequences = data.values[:,1]\n",
    "    enc_in = []\n",
    "    for seq in sequences:\n",
    "        seq_ids = tokens_to_ids(seq, vocab)\n",
    "        enc_in.append(np.asarray(seq_ids))\n",
    "    enc_in = np.asarray(enc_in)\n",
    "    enc_lens = np.asarray(enc_in.shape[0]*[enc_in.shape[1]])\n",
    "    dec_in = np.hstack([np.expand_dims(np.asarray(enc_in.shape[0]*[0]), axis=1), enc_in])\n",
    "    dec_lens = 1 + enc_lens\n",
    "    labels = np.hstack([enc_in, np.expand_dims(np.asarray(enc_in.shape[0]*[0]), axis=1)])\n",
    "    \n",
    "    return dict(enc_in=enc_in, enc_lens=enc_lens, dec_in=dec_in, dec_lens=dec_lens, labels=labels)"
   ]
  },
  {
   "cell_type": "code",
   "execution_count": null,
   "metadata": {
    "collapsed": true
   },
   "outputs": [],
   "source": [
    "np.savez('./data/testing.npz', **getTextdb(testing_file))"
   ]
  },
  {
   "cell_type": "code",
   "execution_count": null,
   "metadata": {
    "collapsed": true
   },
   "outputs": [],
   "source": [
    "np.savez('./data/training.npz', **getTextdb(training_file))"
   ]
  }
 ],
 "metadata": {
  "kernelspec": {
   "display_name": "Python 3",
   "language": "python",
   "name": "python3"
  },
  "language_info": {
   "codemirror_mode": {
    "name": "ipython",
    "version": 3
   },
   "file_extension": ".py",
   "mimetype": "text/x-python",
   "name": "python",
   "nbconvert_exporter": "python",
   "pygments_lexer": "ipython3",
   "version": "3.5.3"
  }
 },
 "nbformat": 4,
 "nbformat_minor": 2
}
